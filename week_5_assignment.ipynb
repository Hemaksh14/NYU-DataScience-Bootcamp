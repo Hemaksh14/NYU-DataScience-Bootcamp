{
 "cells": [
  {
   "cell_type": "markdown",
   "metadata": {},
   "source": [
    "# Week 5 Assignment\n",
    "\n",
    "## Name: Hemaksh Chaturvedi\n",
    "### NetID:hac9624"
   ]
  },
  {
   "cell_type": "markdown",
   "metadata": {},
   "source": [
    "\n",
    "1. How do you assess the statistical significance of an insight?\n",
    "\n",
    "The statistical significance of an insight can be assessed using a null hypothesis and a p-value. An insight is deemed of statistical significance if the probability of occurrence is less than or equal to the p-value, given the null hypothesis is true.\n",
    "\n",
    "2. What is the Central Limit Theorem? Explain it. Why is it important?\n",
    "\n",
    "The Central Limit Theorem suggests that if sampling randomly and independently, the sample means distribute normally as the sample size increases, even if the original poppulation is not normally distributed. This observation is important as it enables practicioners to rely on the normal distribution as an approximation for the distribution of sample means. It is also important to note that complete information about populations is not guaranteed in real-world applications.\n",
    "\n",
    "3. What is the statistical power?\n",
    "\n",
    "Statistical power is the probability that a statistical test will correctly reject a null hypothesis when it is false.\n",
    "\n",
    "4. How do you control for biases?\n",
    "\n",
    "One method to control for biases is through random sampling. This method attempts to provide an equal chance of any member in a given poppulation to be a part of a sample.\n",
    "\n",
    "5. What are confounding variables?\n",
    "\n",
    "Confounding variables are variables that are associated with both the independent variable and the dependent variable. This distorts the apparent relationship between the independent variable and the dependent variable.\n",
    "\n",
    "6. What is A/B testing?\n",
    "\n",
    "A/B testing are controlled mini-expirements to compare the outcomes from decision A and decision B.\n",
    "\n",
    "7. What are confidence intervals?\n",
    "\n",
    "Confidence intervals are statistical ranges used to estimate a population parameter with a certain level of confidence. It provides a range of values within which the true population parameter is likely to fall."
   ]
  }
 ],
 "metadata": {
  "kernelspec": {
   "display_name": "Python 3",
   "language": "python",
   "name": "python3"
  },
  "language_info": {
   "codemirror_mode": {
    "name": "ipython",
    "version": 3
   },
   "file_extension": ".py",
   "mimetype": "text/x-python",
   "name": "python",
   "nbconvert_exporter": "python",
   "pygments_lexer": "ipython3",
   "version": "3.11.3"
  },
  "orig_nbformat": 4
 },
 "nbformat": 4,
 "nbformat_minor": 2
}
